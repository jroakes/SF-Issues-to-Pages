{
 "cells": [
  {
   "cell_type": "code",
   "execution_count": 1,
   "metadata": {},
   "outputs": [
    {
     "name": "stdout",
     "output_type": "stream",
     "text": [
      "Data directory is not empty. Please delete the contents of the data directory before running the audit.\n",
      "Deleting contents of data directory...\n"
     ]
    },
    {
     "data": {
      "application/vnd.jupyter.widget-view+json": {
       "model_id": "105b41f2394b4752817a02cc84ead0f6",
       "version_major": 2,
       "version_minor": 0
      },
      "text/plain": [
       "Crawling:   0%|          | 0/100 [00:00<?, ?it/s]"
      ]
     },
     "metadata": {},
     "output_type": "display_data"
    },
    {
     "name": "stdout",
     "output_type": "stream",
     "text": [
      "Crawl Complete!\n"
     ]
    },
    {
     "data": {
      "application/vnd.jupyter.widget-view+json": {
       "model_id": "9b7b8dec74714cf68863e9fe8ccd2f40",
       "version_major": 2,
       "version_minor": 0
      },
      "text/plain": [
       "Reading Issues:   0%|          | 0/69 [00:00<?, ?it/s]"
      ]
     },
     "metadata": {},
     "output_type": "display_data"
    },
    {
     "data": {
      "application/vnd.jupyter.widget-view+json": {
       "model_id": "3ed77c50e93945ab8f4f4e19ce20cc8d",
       "version_major": 2,
       "version_minor": 0
      },
      "text/plain": [
       "Parsing Issues:   0%|          | 0/458 [00:00<?, ?it/s]"
      ]
     },
     "metadata": {},
     "output_type": "display_data"
    },
    {
     "data": {
      "application/vnd.jupyter.widget-view+json": {
       "model_id": "b5f51839626f48fbace3a556ac0aad3f",
       "version_major": 2,
       "version_minor": 0
      },
      "text/plain": [
       "Parsing Images:   0%|          | 0/458 [00:00<?, ?it/s]"
      ]
     },
     "metadata": {},
     "output_type": "display_data"
    },
    {
     "data": {
      "application/vnd.jupyter.widget-view+json": {
       "model_id": "7e24003602fc47489d5794fd444fa7ff",
       "version_major": 2,
       "version_minor": 0
      },
      "text/plain": [
       "Parsing Links:   0%|          | 0/458 [00:00<?, ?it/s]"
      ]
     },
     "metadata": {},
     "output_type": "display_data"
    },
    {
     "data": {
      "application/vnd.jupyter.widget-view+json": {
       "model_id": "d2c42b5385b04727920e712ad23d5591",
       "version_major": 2,
       "version_minor": 0
      },
      "text/plain": [
       "Mapping URL Counts:   0%|          | 0/16 [00:00<?, ?it/s]"
      ]
     },
     "metadata": {},
     "output_type": "display_data"
    },
    {
     "data": {
      "application/vnd.jupyter.widget-view+json": {
       "model_id": "d070b240a4ee4848af74c6c4412dbdf5",
       "version_major": 2,
       "version_minor": 0
      },
      "text/plain": [
       "Uploading Issues to Google Sheets:   0%|          | 0/68 [00:00<?, ?it/s]"
      ]
     },
     "metadata": {},
     "output_type": "display_data"
    },
    {
     "data": {
      "application/vnd.jupyter.widget-view+json": {
       "model_id": "22684898b2cc42b0beb3f6a43a7451e1",
       "version_major": 2,
       "version_minor": 0
      },
      "text/plain": [
       "Building Report:   0%|          | 0/6 [00:00<?, ?it/s]"
      ]
     },
     "metadata": {},
     "output_type": "display_data"
    },
    {
     "name": "stdout",
     "output_type": "stream",
     "text": [
      "Issue Report: https://docs.google.com/spreadsheets/d/1d4DojogFIePLrnhkdVg2n0fyW6HJtnc8tlOJ0bYKBQ4\n",
      "Complete!\n"
     ]
    },
    {
     "data": {
      "text/plain": [
       "True"
      ]
     },
     "execution_count": 1,
     "metadata": {},
     "output_type": "execute_result"
    }
   ],
   "source": [
    "from main import run_audit\n",
    "\n",
    "url = \"https://www.domain.com/\"\n",
    "\n",
    "data = {\"run_version\": \"1\"}\n",
    "\n",
    "run_audit(url, data=data)"
   ]
  }
 ],
 "metadata": {
  "kernelspec": {
   "display_name": "base",
   "language": "python",
   "name": "python3"
  },
  "language_info": {
   "codemirror_mode": {
    "name": "ipython",
    "version": 3
   },
   "file_extension": ".py",
   "mimetype": "text/x-python",
   "name": "python",
   "nbconvert_exporter": "python",
   "pygments_lexer": "ipython3",
   "version": "3.9.12"
  },
  "orig_nbformat": 4,
  "vscode": {
   "interpreter": {
    "hash": "689d67f022e1beb71c08c925431fdf09cb33fafc14dd7df70c9ac24a139127ce"
   }
  }
 },
 "nbformat": 4,
 "nbformat_minor": 2
}
