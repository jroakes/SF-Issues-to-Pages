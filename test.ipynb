{
 "cells": [
  {
   "cell_type": "code",
   "execution_count": 1,
   "metadata": {},
   "outputs": [
    {
     "name": "stdout",
     "output_type": "stream",
     "text": [
      "Data directory is not empty. Please delete the contents of the data directory before running the audit.\n",
      "Deleting contents of data directory...\n"
     ]
    },
    {
     "data": {
      "application/vnd.jupyter.widget-view+json": {
       "model_id": "91f881aa2370441ea04d654da4d52f12",
       "version_major": 2,
       "version_minor": 0
      },
      "text/plain": [
       "Crawling:   0%|          | 0/100 [00:00<?, ?it/s]"
      ]
     },
     "metadata": {},
     "output_type": "display_data"
    }
   ],
   "source": [
    "import os\n",
    "\n",
    "# Clean up the data folder before running the audit\n",
    "#check if exists, if so, delete it and recreate it\n",
    "\n",
    "if os.path.exists(\"data\"):\n",
    "    os.system(\"rm -rf data\")\n",
    "    os.system(\"mkdir data\") \n",
    "else:\n",
    "    os.system(\"mkdir data\")\n",
    "\n",
    "\n",
    "from main import run_audit\n",
    "\n",
    "url = \"https://www.reliant.com/\"\n",
    "data = {\"run_version\": \"1\"}\n",
    "\n",
    "\n",
    "run_audit(url, data=data)"
   ]
  }
 ],
 "metadata": {
  "kernelspec": {
   "display_name": "base",
   "language": "python",
   "name": "python3"
  },
  "language_info": {
   "codemirror_mode": {
    "name": "ipython",
    "version": 3
   },
   "file_extension": ".py",
   "mimetype": "text/x-python",
   "name": "python",
   "nbconvert_exporter": "python",
   "pygments_lexer": "ipython3",
   "version": "3.9.12"
  },
  "orig_nbformat": 4,
  "vscode": {
   "interpreter": {
    "hash": "689d67f022e1beb71c08c925431fdf09cb33fafc14dd7df70c9ac24a139127ce"
   }
  }
 },
 "nbformat": 4,
 "nbformat_minor": 2
}
