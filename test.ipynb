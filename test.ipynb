{
 "cells": [
  {
   "cell_type": "code",
   "execution_count": 3,
   "metadata": {},
   "outputs": [
    {
     "name": "stdout",
     "output_type": "stream",
     "text": [
      "Data directory is not empty. Please delete the contents of the data directory before running the audit.\n",
      "Deleting contents of data directory...\n"
     ]
    },
    {
     "data": {
      "application/vnd.jupyter.widget-view+json": {
       "model_id": "15eced7d22414859aa727801da551205",
       "version_major": 2,
       "version_minor": 0
      },
      "text/plain": [
       "Crawling:   0%|          | 0/100 [00:00<?, ?it/s]"
      ]
     },
     "metadata": {},
     "output_type": "display_data"
    },
    {
     "name": "stdout",
     "output_type": "stream",
     "text": [
      "Crawl Complete!\n"
     ]
    },
    {
     "data": {
      "application/vnd.jupyter.widget-view+json": {
       "model_id": "582f1e052eb641978cfdaf362f218fe1",
       "version_major": 2,
       "version_minor": 0
      },
      "text/plain": [
       "Reading Issues:   0%|          | 0/54 [00:00<?, ?it/s]"
      ]
     },
     "metadata": {},
     "output_type": "display_data"
    },
    {
     "data": {
      "application/vnd.jupyter.widget-view+json": {
       "model_id": "1f6bf85f285b4a0b92b4fab282608448",
       "version_major": 2,
       "version_minor": 0
      },
      "text/plain": [
       "Parsing Issues:   0%|          | 0/114 [00:00<?, ?it/s]"
      ]
     },
     "metadata": {},
     "output_type": "display_data"
    },
    {
     "data": {
      "application/vnd.jupyter.widget-view+json": {
       "model_id": "d442ff142d404248a207fc55ddd828c1",
       "version_major": 2,
       "version_minor": 0
      },
      "text/plain": [
       "Parsing Images:   0%|          | 0/114 [00:00<?, ?it/s]"
      ]
     },
     "metadata": {},
     "output_type": "display_data"
    },
    {
     "data": {
      "application/vnd.jupyter.widget-view+json": {
       "model_id": "f270e3f6fc9d459386f101a7086a8970",
       "version_major": 2,
       "version_minor": 0
      },
      "text/plain": [
       "Parsing Links:   0%|          | 0/114 [00:00<?, ?it/s]"
      ]
     },
     "metadata": {},
     "output_type": "display_data"
    },
    {
     "data": {
      "application/vnd.jupyter.widget-view+json": {
       "model_id": "2d0f90db46d346088b584d797206e75b",
       "version_major": 2,
       "version_minor": 0
      },
      "text/plain": [
       "Mapping URL Counts:   0%|          | 0/10 [00:00<?, ?it/s]"
      ]
     },
     "metadata": {},
     "output_type": "display_data"
    },
    {
     "data": {
      "application/vnd.jupyter.widget-view+json": {
       "model_id": "f64f6cec6eb74baab786524b4c6d9d1d",
       "version_major": 2,
       "version_minor": 0
      },
      "text/plain": [
       "Uploading Issues to Google Sheets:   0%|          | 0/53 [00:00<?, ?it/s]"
      ]
     },
     "metadata": {},
     "output_type": "display_data"
    },
    {
     "data": {
      "application/vnd.jupyter.widget-view+json": {
       "model_id": "aecff45c545d4603b0857c1d7e643d08",
       "version_major": 2,
       "version_minor": 0
      },
      "text/plain": [
       "Building Report:   0%|          | 0/6 [00:00<?, ?it/s]"
      ]
     },
     "metadata": {},
     "output_type": "display_data"
    },
    {
     "name": "stdout",
     "output_type": "stream",
     "text": [
      "Issue Report: https://docs.google.com/spreadsheets/d/1t3zAqa4CFvCd_I5ltqDtPgqY3-inF_i1r_Vpj_0ibmk\n",
      "Complete!\n"
     ]
    },
    {
     "data": {
      "text/plain": [
       "True"
      ]
     },
     "execution_count": 3,
     "metadata": {},
     "output_type": "execute_result"
    }
   ],
   "source": [
    "import os\n",
    "from main import run_audit\n",
    "\n",
    "# Clean up the data folder before running the audit\n",
    "#check if exists, if so, delete it and recreate it\n",
    "\n",
    "if os.path.exists(\"data\"):\n",
    "    os.system(\"rm -rf data\")\n",
    "    os.system(\"mkdir data\") \n",
    "else:\n",
    "    os.system(\"mkdir data\")\n",
    "\n",
    "\n",
    "url = \"https://locomotive.agency/\"\n",
    "\n",
    "data = {\"run_version\": \"1\"}\n",
    "\n",
    "run_audit(url, data=data)"
   ]
  }
 ],
 "metadata": {
  "kernelspec": {
   "display_name": "base",
   "language": "python",
   "name": "python3"
  },
  "language_info": {
   "codemirror_mode": {
    "name": "ipython",
    "version": 3
   },
   "file_extension": ".py",
   "mimetype": "text/x-python",
   "name": "python",
   "nbconvert_exporter": "python",
   "pygments_lexer": "ipython3",
   "version": "3.9.12"
  },
  "orig_nbformat": 4,
  "vscode": {
   "interpreter": {
    "hash": "689d67f022e1beb71c08c925431fdf09cb33fafc14dd7df70c9ac24a139127ce"
   }
  }
 },
 "nbformat": 4,
 "nbformat_minor": 2
}
