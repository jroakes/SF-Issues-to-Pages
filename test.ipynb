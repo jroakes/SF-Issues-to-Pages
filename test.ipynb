{
 "cells": [
  {
   "cell_type": "code",
   "execution_count": 1,
   "metadata": {},
   "outputs": [
    {
     "data": {
      "application/vnd.jupyter.widget-view+json": {
       "model_id": "3f10b2ab91d84215bb0bb83ce9bd1aba",
       "version_major": 2,
       "version_minor": 0
      },
      "text/plain": [
       "Reading Issues:   0%|          | 0/87 [00:00<?, ?it/s]"
      ]
     },
     "metadata": {},
     "output_type": "display_data"
    },
    {
     "data": {
      "application/vnd.jupyter.widget-view+json": {
       "model_id": "18358a4d8b7f420c9b2396cd32b3ff9c",
       "version_major": 2,
       "version_minor": 0
      },
      "text/plain": [
       "Parsing Issues:   0%|          | 0/1479 [00:00<?, ?it/s]"
      ]
     },
     "metadata": {},
     "output_type": "display_data"
    },
    {
     "data": {
      "application/vnd.jupyter.widget-view+json": {
       "model_id": "068c8e312b124aa8ba28f6ab1e280cd7",
       "version_major": 2,
       "version_minor": 0
      },
      "text/plain": [
       "Parsing Images:   0%|          | 0/1479 [00:00<?, ?it/s]"
      ]
     },
     "metadata": {},
     "output_type": "display_data"
    },
    {
     "data": {
      "application/vnd.jupyter.widget-view+json": {
       "model_id": "aab26aeb88104caea91568fa149c41e5",
       "version_major": 2,
       "version_minor": 0
      },
      "text/plain": [
       "Parsing Links:   0%|          | 0/1479 [00:00<?, ?it/s]"
      ]
     },
     "metadata": {},
     "output_type": "display_data"
    },
    {
     "data": {
      "application/vnd.jupyter.widget-view+json": {
       "model_id": "b5def214647440ea8486f7a657b95cd3",
       "version_major": 2,
       "version_minor": 0
      },
      "text/plain": [
       "Mapping URL Counts:   0%|          | 0/27 [00:00<?, ?it/s]"
      ]
     },
     "metadata": {},
     "output_type": "display_data"
    },
    {
     "name": "stdout",
     "output_type": "stream",
     "text": [
      "Complete!\n"
     ]
    },
    {
     "data": {
      "text/plain": [
       "True"
      ]
     },
     "execution_count": 1,
     "metadata": {},
     "output_type": "execute_result"
    }
   ],
   "source": [
    "from main import run_reports\n",
    "\n",
    "\n",
    "run_reports()"
   ]
  },
  {
   "cell_type": "code",
   "execution_count": 1,
   "metadata": {},
   "outputs": [],
   "source": [
    "import gspread\n",
    "\n",
    "service_account = 'locomotive-jupyterhub-service.json'\n",
    "\n",
    "\n",
    "from google.oauth2.service_account import Credentials\n",
    "\n",
    "scopes = [\n",
    "    'https://www.googleapis.com/auth/spreadsheets',\n",
    "    'https://www.googleapis.com/auth/drive'\n",
    "]\n",
    "user = \"clients@locomotive.agency\"\n",
    "\n",
    "credentials = Credentials.from_service_account_file(\n",
    "    service_account,\n",
    "    scopes=scopes,\n",
    "    subject=user\n",
    ")\n",
    "\n",
    "gc = gspread.authorize(credentials)"
   ]
  },
  {
   "cell_type": "code",
   "execution_count": 2,
   "metadata": {},
   "outputs": [],
   "source": [
    "sh = gc.create('A new spreadsheet')"
   ]
  }
 ],
 "metadata": {
  "kernelspec": {
   "display_name": "base",
   "language": "python",
   "name": "python3"
  },
  "language_info": {
   "codemirror_mode": {
    "name": "ipython",
    "version": 3
   },
   "file_extension": ".py",
   "mimetype": "text/x-python",
   "name": "python",
   "nbconvert_exporter": "python",
   "pygments_lexer": "ipython3",
   "version": "3.9.12"
  },
  "orig_nbformat": 4,
  "vscode": {
   "interpreter": {
    "hash": "689d67f022e1beb71c08c925431fdf09cb33fafc14dd7df70c9ac24a139127ce"
   }
  }
 },
 "nbformat": 4,
 "nbformat_minor": 2
}
